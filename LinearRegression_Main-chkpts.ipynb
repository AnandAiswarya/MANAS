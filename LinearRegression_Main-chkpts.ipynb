{
 "cells": [
  {
   "cell_type": "code",
   "execution_count": 96,
   "metadata": {},
   "outputs": [],
   "source": [
    "import numpy as np\n",
    "import pandas as pn\n",
    "from math import pow"
   ]
  },
  {
   "cell_type": "code",
   "execution_count": 97,
   "metadata": {},
   "outputs": [],
   "source": [
    "def addOne(arr):\n",
    "    temp = np.ones([arr.shape[0],arr.shape[1] + 1])\n",
    "    temp[...,1:] = arr\n",
    "    return temp"
   ]
  },
  {
   "cell_type": "code",
   "execution_count": 98,
   "metadata": {},
   "outputs": [],
   "source": [
    "def cost(X,Y,theta):\n",
    "    m = len(Y)\n",
    "    temp = (1/m)*(np.matmul(X,theta) - Y)**2\n",
    "    return np.sum(temp)\n",
    "    "
   ]
  },
  {
   "cell_type": "code",
   "execution_count": 99,
   "metadata": {},
   "outputs": [],
   "source": [
    "#To check if values of linear regression are equal/almost equal\n",
    "def normalEquation(X,Y):\n",
    "    return np.matmul(np.linalg.inv(np.matmul(X.T,X)),np.matmul(X.T,Y))"
   ]
  },
  {
   "cell_type": "code",
   "execution_count": 100,
   "metadata": {},
   "outputs": [],
   "source": [
    "def makeColsToRows(arr):\n",
    "    size = arr.shape[0]\n",
    "    arr.resize(size,1)\n",
    "    return arr"
   ]
  },
  {
   "cell_type": "code",
   "execution_count": 101,
   "metadata": {},
   "outputs": [],
   "source": [
    "def gradientDescent(X,Y,theta,alpha,iterations):\n",
    "    m = Y.shape[0]\n",
    "    costValues = []\n",
    "    for i in range(iterations):\n",
    "        theta -= (1/m)*alpha*np.matmul(X.T,(np.matmul(X,theta) - Y))\n",
    "        costValues.append(cost(X,Y,theta))\n",
    "    return [theta,costValues]"
   ]
  },
  {
   "cell_type": "code",
   "execution_count": 102,
   "metadata": {},
   "outputs": [],
   "source": [
    "def scaleDown(X):\n",
    "    means = []\n",
    "    stds = []\n",
    "    for i in range(X.shape[1]):\n",
    "        tempMean = np.mean(X[...,i])\n",
    "        tempStd = np.std(X[...,i])\n",
    "        X[...,i] = (X[...,i] - tempMean)/tempStd\n",
    "        means.append(tempMean)\n",
    "        stds.append(tempStd)\n",
    "        \n",
    "    return [X,makeColsToRows(np.array(means)),makeColsToRows(np.array(stds))]"
   ]
  },
  {
   "cell_type": "code",
   "execution_count": 103,
   "metadata": {},
   "outputs": [],
   "source": [
    "# Filter rows having blank values\n",
    "def filter(dataset):\n",
    "    temp = pn.DataFrame(dataset.values)\n",
    "    return np.array(temp.dropna())"
   ]
  },
  {
   "cell_type": "code",
   "execution_count": 104,
   "metadata": {},
   "outputs": [],
   "source": [
    "X = pn.read_csv('car_price.csv')\n",
    "\n",
    "X = filter(X)"
   ]
  },
  {
   "cell_type": "code",
   "execution_count": 105,
   "metadata": {},
   "outputs": [
    {
     "name": "stdout",
     "output_type": "stream",
     "text": [
      "[[ 1.          0.00461211  1.34376809 ...  0.98620891 -0.41800262\n",
      "  -0.43429672]\n",
      " [ 1.         -0.25402602  0.89471509 ...  0.86235118 -0.41800262\n",
      "  -0.43429672]\n",
      " [ 1.         -0.51266416  0.89471509 ... -0.84193118 -0.16992987\n",
      "   1.65006394]\n",
      " ...\n",
      " [ 1.         -0.7713023  -0.77822745 ...  1.6302691  -1.65638181\n",
      "  -1.47647706]\n",
      " [ 1.         -1.28857858  0.54251666 ... -0.40099766 -0.41800262\n",
      "  -0.43429672]\n",
      " [ 1.          1.03916466 -0.79583737 ...  1.23392437  0.07814289\n",
      "  -0.43429672]]\n"
     ]
    }
   ],
   "source": [
    "# Training result\n",
    "Y = makeColsToRows(X[...,1])\n",
    "#Deleting  Y from X\n",
    "X = np.delete(X,1,1)\n",
    "#Scaling down huge variation in values;\n",
    "[X,means,stds] = scaleDown(X)\n",
    "X = addOne(X)\n",
    "print(X)"
   ]
  },
  {
   "cell_type": "code",
   "execution_count": 106,
   "metadata": {},
   "outputs": [],
   "source": [
    "#MAIN PROG\n",
    "alpha = 0.003\n",
    "iterations = 20000\n",
    "theta = np.ones([X.shape[1],1])\n",
    "\n",
    "[gradientTheta,allCosts] = gradientDescent(X,Y,theta,alpha,iterations)\n",
    "normalTheta = normalEquation(X,Y)"
   ]
  },
  {
   "cell_type": "code",
   "execution_count": 107,
   "metadata": {},
   "outputs": [
    {
     "data": {
      "image/png": "[encoded data removed]",
      "text/plain": [
       "<Figure size 432x288 with 1 Axes>"
      ]
     },
     "metadata": {
      "needs_background": "light"
     },
     "output_type": "display_data"
    }
   ],
   "source": [
    "#Testing values;\n",
    "from matplotlib import pyplot as plot\n",
    "\n",
    "plot.plot(np.arange(iterations),allCosts)\n",
    "plot.xlabel(\"Iterations\")\n",
    "plot.ylabel(\"Total cost\")\n",
    "plot.show()\n",
    "\n"
   ]
  }
 ],
 "metadata": {
  "kernelspec": {
   "display_name": "Python 3",
   "language": "python",
   "name": "python3"
  },
  "language_info": {
   "codemirror_mode": {
    "name": "ipython",
    "version": 3
   },
   "file_extension": ".py",
   "mimetype": "text/x-python",
   "name": "python",
   "nbconvert_exporter": "python",
   "pygments_lexer": "ipython3",
   "version": "3.7.9"
  }
 },
 "nbformat": 4,
 "nbformat_minor": 4
}
